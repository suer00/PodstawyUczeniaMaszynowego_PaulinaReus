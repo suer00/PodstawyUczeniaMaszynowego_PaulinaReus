{
 "cells": [
  {
   "cell_type": "code",
   "execution_count": null,
   "metadata": {},
   "outputs": [],
   "source": [
    "import numpy as np\n",
    "import pandas as pd\n",
    "import matplotlib.pyplot as plt\n",
    "from sklearn.model_selection import train_test_split\n",
    "\n",
    "from sklearn.decomposition import PCA\n",
    "\n",
    "df = pd.read_csv(\"cleaned_data.csv\", sep=\",\", encoding='utf-8')\n",
    "print(df)\n",
    "print(df.columns)\n",
    "\n",
    "exclude_filter = ~df.columns.isin(['Unnamed: 0', 'Credit_Score'])\n",
    "\n",
    "pca = PCA().fit(df.loc[:, exclude_filter])\n",
    "plt.plot(np.cumsum(pca.explained_variance_ratio_))\n",
    "plt.xlabel('number of components')\n",
    "plt.ylabel('cumulative explained variance')\n",
    "plt.gcf().set_size_inches(7, 5)\n",
    "plt.show()\n",
    "\n",
    "pca = PCA(svd_solver='full', n_components=0.95)\n",
    "principal_components = pca.fit_transform(df.loc[:, exclude_filter])\n",
    "principal_df = pd.DataFrame(data=principal_components)\n",
    "print(principal_df.head())\n",
    "\n",
    "X_train, X_test, Y_train, Y_test = train_test_split(principal_df, df['Credit_Score'], test_size=0.3, random_state=42)"
   ]
  }
 ],
 "metadata": {
  "language_info": {
   "name": "python"
  },
  "orig_nbformat": 4
 },
 "nbformat": 4,
 "nbformat_minor": 2
}
